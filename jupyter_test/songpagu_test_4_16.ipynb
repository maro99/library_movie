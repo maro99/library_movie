{
 "cells": [
  {
   "cell_type": "code",
   "execution_count": 25,
   "metadata": {},
   "outputs": [
    {
     "name": "stdout",
     "output_type": "stream",
     "text": [
      "@@@@@@@@@@@@@@@@@@@@@@@@@@@@@@@@@@@@@@@@@@@@@@@@@@@@@@@@@@@@\n"
     ]
    }
   ],
   "source": [
    "import re\n",
    "import requests\n",
    "from bs4 import BeautifulSoup\n",
    "from selenium import webdriver\n",
    "from urllib import parse\n",
    "\n",
    "libGroup = \"SPG\"\n",
    "\n",
    "params = {\n",
    "        'LIBCODE': libGroup,\n",
    "    }\n",
    "url = \"http://www.splib.or.kr/movie.do?\" + parse.urlencode(params) \n",
    "\n",
    "request = requests.get(url)\n",
    "response = request.text\n",
    "soup = BeautifulSoup(response, 'lxml')\n",
    "\n",
    "movie_tables = soup.select('div.contents > table')\n",
    "\n",
    "for movie_table in movie_tables:\n",
    "    title = \"\"  # 제목\n",
    "    when = \"\"  # 일시\n",
    "    when_date_year = 0\n",
    "    when_date_month = 0\n",
    "    when_date_day = 0\n",
    "    when_time_hour = 0\n",
    "    when_time_minuite = 0\n",
    "    runtime = 0  # 런타임\n",
    "    place = \"\"  # 장소\n",
    "    \n",
    "    items_pre = movie_table.select('tr')\n",
    "    \n",
    "    for item_pre in items_pre:\n",
    "        item_name = item_pre.select_one('th').get_text(strip=True)\n",
    "        \n",
    "        if item_name == \"제목\":\n",
    "            title = item_pre.select_one('td.tb').get_text(strip=True)\n",
    "            print(f'title: {title}')\n",
    "            \n",
    "        elif item_name == \"상영일시\":\n",
    "            when = item_pre.select_one('td').get_text(strip=True)\n",
    "            print(f'when: {when}')# 2019년 04월 07일 (일요일) 14시 00분\n",
    "\n",
    "            when_date_year = re.findall('(\\d\\d\\d\\d)', when)[0]\n",
    "            when_date_month = re.findall('(\\d{1,2})\\s*월', when)[0]\n",
    "            when_date_day = re.findall('(\\d{1,2})\\s*일', when)[0]\n",
    "            \n",
    "            # 18:00 이런식으로 표현시 \n",
    "            if re.findall('(\\d{1,2}):', when):\n",
    "                when_time_hour = re.findall('(\\d{1,2}):', when)[0]\n",
    "                when_time_minuite = re.findall('\\d{1,2}:(\\d{1,2})', when)[0]\n",
    "            # 18시 30분 이런식으로 표현시 \n",
    "            elif re.findall('\\d+\\s*시\\s*(\\d+)\\s*분', when):\n",
    "                when_time_hour = re.findall('(\\d+)\\s*시\\s*\\d+\\s*분', when)[0]\n",
    "                when_time_minuite = re.findall('\\d+\\s*시\\s*(\\d+)\\s*분', when)[0]\n",
    "\n",
    "            # 18시 이런식으로 표현될땐 ~\n",
    "            elif re.findall('(\\d+)\\s*시', when):\n",
    "                when_time_hour = re.findall('(\\d+)시', when)[0]\n",
    "    \n",
    "            print(f'when_date_year: {when_date_year}')\n",
    "            print(f'when_date_month: {when_date_month}')\n",
    "            print(f'when_date_day: {when_date_day}')\n",
    "            print(f'when_time_hour: {when_time_hour}')\n",
    "            print(f'when_time_minuite: {when_time_minuite}')\n",
    "            \n",
    "            \n",
    "        elif item_name == \"상영장소\":\n",
    "            place = item_pre.select_one('td').get_text(strip=True)\n",
    "            print(f'place: {place}')\n",
    "            \n",
    "        elif item_name == \"상영정보\":\n",
    "            runtime = item_pre.select_one('td').get_text(strip=True)\n",
    "            \n",
    "            if re.findall('(\\d+)', runtime):\n",
    "                runtime = re.findall('(\\d+)', runtime)[0]\n",
    "\n",
    "            print(f'runtime: {runtime}')\n",
    "    \n",
    "    \n",
    "    print('@@@@@@@@@@@@@@@@@@@@@@@@@@@@@@@@@@@@@@@@@@@@@@@@@@@@@@@@@@@@')\n",
    "\n",
    "\n"
   ]
  },
  {
   "cell_type": "code",
   "execution_count": 26,
   "metadata": {},
   "outputs": [],
   "source": [
    "a = \"\""
   ]
  },
  {
   "cell_type": "code",
   "execution_count": 27,
   "metadata": {},
   "outputs": [],
   "source": [
    "if a:\n",
    "    print('2')"
   ]
  },
  {
   "cell_type": "code",
   "execution_count": null,
   "metadata": {},
   "outputs": [],
   "source": []
  }
 ],
 "metadata": {
  "kernelspec": {
   "display_name": "Python 3",
   "language": "python",
   "name": "python3"
  },
  "language_info": {
   "codemirror_mode": {
    "name": "ipython",
    "version": 3
   },
   "file_extension": ".py",
   "mimetype": "text/x-python",
   "name": "python",
   "nbconvert_exporter": "python",
   "pygments_lexer": "ipython3",
   "version": "3.6.5"
  }
 },
 "nbformat": 4,
 "nbformat_minor": 2
}
