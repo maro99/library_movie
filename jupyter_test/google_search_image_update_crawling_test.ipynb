{
 "cells": [
  {
   "cell_type": "code",
   "execution_count": 52,
   "metadata": {},
   "outputs": [],
   "source": [
    "from urllib import parse\n",
    "import re\n",
    "import requests\n",
    "from bs4 import BeautifulSoup\n",
    "import ssl\n",
    "import urllib.request as req\n",
    "import json\n",
    "\n",
    "def get_soup(url):\n",
    "    ssl._create_default_https_context = ssl._create_unverified_context\n",
    "    res = req.urlopen(url)\n",
    "    soup = BeautifulSoup(res, 'lxml')\n",
    "    \n",
    "\n",
    "search_input = \"송강호\"\n",
    "title_encoded = parse.quote(search_input)\n",
    "url = \"https://www.google.com/search?q=\"+search_input+ \"&source=lnms&tbm=isch&sa=X&ved=0ahUKEwi-yZ6i3snfAhVB6LwKHXlCBmMQ_AUIDigB&biw=1519&bih=936\"\n",
    "request = requests.get(url)\n",
    "response = request.text\n",
    "soup = BeautifulSoup(response, 'lxml')\n",
    "# print(soup)\n",
    "\n",
    "result1 = soup.select('div')\n",
    "# print(result1)"
   ]
  },
  {
   "cell_type": "code",
   "execution_count": null,
   "metadata": {},
   "outputs": [],
   "source": []
  },
  {
   "cell_type": "code",
   "execution_count": 34,
   "metadata": {},
   "outputs": [
    {
     "ename": "NameError",
     "evalue": "name 'title' is not defined",
     "output_type": "error",
     "traceback": [
      "\u001b[0;31m---------------------------------------------------------------------------\u001b[0m",
      "\u001b[0;31mNameError\u001b[0m                                 Traceback (most recent call last)",
      "\u001b[0;32m<ipython-input-34-5b81f9086220>\u001b[0m in \u001b[0;36m<module>\u001b[0;34m\u001b[0m\n\u001b[1;32m     13\u001b[0m \u001b[0;34m\u001b[0m\u001b[0m\n\u001b[1;32m     14\u001b[0m \u001b[0;31m# 한글을 query 로 변환\u001b[0m\u001b[0;34m\u001b[0m\u001b[0;34m\u001b[0m\u001b[0m\n\u001b[0;32m---> 15\u001b[0;31m \u001b[0mtitle_encoded\u001b[0m \u001b[0;34m=\u001b[0m \u001b[0mparse\u001b[0m\u001b[0;34m.\u001b[0m\u001b[0mquote\u001b[0m\u001b[0;34m(\u001b[0m\u001b[0mtitle\u001b[0m\u001b[0;34m)\u001b[0m\u001b[0;34m\u001b[0m\u001b[0m\n\u001b[0m\u001b[1;32m     16\u001b[0m \u001b[0;34m\u001b[0m\u001b[0m\n\u001b[1;32m     17\u001b[0m \u001b[0;31m# 검색 url접속후 detail 페이지로 가기위한 url을 먼저 얻겠다.\u001b[0m\u001b[0;34m\u001b[0m\u001b[0;34m\u001b[0m\u001b[0m\n",
      "\u001b[0;31mNameError\u001b[0m: name 'title' is not defined"
     ]
    }
   ],
   "source": [
    "from urllib import parse\n",
    "import re\n",
    "import requests\n",
    "from bs4 import BeautifulSoup\n",
    "import ssl\n",
    "import urllib.request as req\n",
    "\n",
    "def get_soup(url):\n",
    "    ssl._create_default_https_context = ssl._create_unverified_context\n",
    "    res = req.urlopen(url)\n",
    "    soup = BeautifulSoup(res, 'lxml')\n",
    "    return soup\n",
    "\n",
    "# 한글을 query 로 변환\n",
    "title_encoded = parse.quote(title)\n",
    "\n",
    "# 검색 url접속후 detail 페이지로 가기위한 url을 먼저 얻겠다.\n",
    "url = \"https://movie.naver.com/movie/search/result.nhn?query=\" + title_encoded + \"&section=all&ie=utf8\"\n",
    "soup = get_soup(url)\n",
    "\n",
    "# 만약 아무것도 검색 결과 없다면 None 입력되고 아래 if문 못들어감.\n",
    "# detail_url_pre = soup.select_one('ul.search_list_1 > li > dl > dt > a')\n",
    "detail_url_pre = soup.select('ul.search_list_1 > li > dl > dd.point > em.cuser_cnt')\n",
    "\n",
    "if detail_url_pre: # 비면(검색결과 x) 아예 아래로 안가겠슴. \n",
    "    \n",
    "    max_num = 0\n",
    "    max_num_rated_movies_line1 = detail_url_pre[0]  # 일단 맨앞 line저장 \n",
    "    for line1 in detail_url_pre:\n",
    "#         print(line1) # 여기기준  이웃 , 부모 테그 타고가서 링크 얻자.\n",
    "        text_pre = line1.get_text()\n",
    "        number_of_rated_people = re.findall(\"(\\d+)\",text_pre)[0]\n",
    "#         print(number_of_rated_people)\n",
    "        if max_num <= int(number_of_rated_people):\n",
    "            max_num = int(number_of_rated_people)\n",
    "            max_num_rated_movies_line1 = line1\n",
    "            \n",
    "parent_tag = max_num_rated_movies_line1.parent\n",
    "dt_tag_as_previous_tag = parent_tag.find_previous_sibling(\"dt\")\n",
    "a_tag = dt_tag_as_previous_tag.select_one('a')\n",
    "print(a_tag.get(\"href\"))"
   ]
  },
  {
   "cell_type": "code",
   "execution_count": 108,
   "metadata": {},
   "outputs": [
    {
     "name": "stdout",
     "output_type": "stream",
     "text": [
      "https://encrypted-tbn0.gstatic.com/images?q=tbn:ANd9GcR2aot1THXfrjnzTBYff9tLlY210wEFQUBCcPm4IOckdEXQUJKoY5lMti09\n"
     ]
    }
   ],
   "source": [
    "\n",
    "import requests\n",
    "from bs4 import BeautifulSoup\n",
    "\n",
    "searchTerm = \"페리디난드\"\n",
    "\n",
    "searchUrl = \"https://www.google.com/search?q={}&site=webhp&tbm=isch\".format(searchTerm)\n",
    "d = requests.get(searchUrl).text\n",
    "soup = BeautifulSoup(d, 'html.parser')\n",
    "\n",
    "\n",
    "# print(soup)\n",
    "\n",
    "\n",
    "img_tags = soup.find_all('img')\n",
    "\n",
    "imgs_urls = []\n",
    "for img in img_tags:\n",
    "    if img['src'].startswith(\"http\"):\n",
    "        imgs_urls.append(img['src'])\n",
    "\n",
    "print(imgs_urls[0])\n",
    "\n",
    "\n",
    "\n",
    "\n",
    "\n",
    "\n",
    "\n"
   ]
  },
  {
   "cell_type": "code",
   "execution_count": null,
   "metadata": {},
   "outputs": [],
   "source": []
  }
 ],
 "metadata": {
  "kernelspec": {
   "display_name": "Python 3",
   "language": "python",
   "name": "python3"
  },
  "language_info": {
   "codemirror_mode": {
    "name": "ipython",
    "version": 3
   },
   "file_extension": ".py",
   "mimetype": "text/x-python",
   "name": "python",
   "nbconvert_exporter": "python",
   "pygments_lexer": "ipython3",
   "version": "3.6.5"
  }
 },
 "nbformat": 4,
 "nbformat_minor": 2
}
