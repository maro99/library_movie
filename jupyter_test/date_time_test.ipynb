{
 "cells": [
  {
   "cell_type": "code",
   "execution_count": 34,
   "metadata": {},
   "outputs": [
    {
     "name": "stdout",
     "output_type": "stream",
     "text": [
      "<class 'datetime.datetime'>\n",
      "2019-01\n",
      "2018-11-23 19:41:45.034252\n"
     ]
    }
   ],
   "source": [
    "import datetime\n",
    "\n",
    "\n",
    "# now = datetime.datetime.now().strftime('%Y-%m')\n",
    "# print(type(now))\n",
    "\n",
    "now = datetime.datetime.now()\n",
    "print(type(now))\n",
    "\n",
    "fix = datetime.datetime.strptime('2019-1','%Y-%m').strftime('%Y-%m')\n",
    "print(fix)\n",
    "\n",
    "\n",
    "\n",
    "before_month = now - datetime.timedelta(days=1)\n",
    "print(before_month)\n",
    "\n",
    "\n",
    "\n",
    "\n",
    "\n"
   ]
  },
  {
   "cell_type": "code",
   "execution_count": 39,
   "metadata": {},
   "outputs": [
    {
     "name": "stdout",
     "output_type": "stream",
     "text": [
      "2018-12\n",
      "2018\n",
      "12\n"
     ]
    }
   ],
   "source": [
    "\n",
    "## 내가 하고싶은것 정의 \n",
    "\n",
    "# 해당 년, 월 로부터 \n",
    "#전월의 첫날 ,  이월의 마지막날 뽑기.(2개월 앞의 -1도 괜찮을듯 )\n",
    "\n",
    "\n",
    "\n",
    "# 당월 뽑기.  \n",
    "now = datetime.datetime.now().strftime('%Y-%m')\n",
    "print(now)\n",
    "now_year_str, now_month_str = now.split('-')\n",
    "print(now_year_str)\n",
    "print(now_month_str)  \n",
    "\n",
    "\n",
    "# 전월의 첫날  \n",
    "\n",
    "# before_months_first_day =  datetime.datetime.strptime(f'{now_year_str}-{now_month_str+1}','%Y-%m')"
   ]
  },
  {
   "cell_type": "code",
   "execution_count": 52,
   "metadata": {
    "scrolled": true
   },
   "outputs": [
    {
     "name": "stdout",
     "output_type": "stream",
     "text": [
      "2018-12\n",
      "2018\n",
      "12\n",
      "2018-12-01 00:00:00\n",
      "2018-11-01 00:00:00\n",
      "2019-01-31 00:00:00\n"
     ]
    }
   ],
   "source": [
    "## relative delta사용해서 월단위 빼보자.  \n",
    "\n",
    "from dateutil.relativedelta import relativedelta\n",
    "\n",
    "\n",
    "# 당월 뽑기.  \n",
    "now = datetime.datetime.now().strftime('%Y-%m')\n",
    "print(now)\n",
    "\n",
    "# 당월의 첫날 뽑기 \n",
    "now_year_str, now_month_str = now.split('-')\n",
    "print(now_year_str)\n",
    "print(now_month_str)  \n",
    "\n",
    "now_months_first_day =  datetime.datetime.strptime(f'{now_year_str}-{now_month_str}','%Y-%m')\n",
    "print(now_months_first_day)  \n",
    "\n",
    "\n",
    "# 전월의 첫날 뽑기  \n",
    "before_months_first_day = now_months_first_day - relativedelta(months=1)\n",
    "print(before_months_first_day)\n",
    "\n",
    "# 다음월의 마지막날 뽑기  \n",
    "after_months_last_day = now_months_first_day + relativedelta(months=2) - datetime.timedelta(days=1)\n",
    "print(after_months_last_day)\n",
    "\n",
    "\n",
    "\n",
    "def print_value():\n",
    "    print(now)"
   ]
  },
  {
   "cell_type": "code",
   "execution_count": 57,
   "metadata": {},
   "outputs": [
    {
     "data": {
      "text/plain": [
       "datetime.datetime(2018, 12, 24, 20, 0, 38, 434642)"
      ]
     },
     "execution_count": 57,
     "metadata": {},
     "output_type": "execute_result"
    }
   ],
   "source": [
    "  datetime.datetime.now()\n"
   ]
  },
  {
   "cell_type": "code",
   "execution_count": 60,
   "metadata": {},
   "outputs": [
    {
     "data": {
      "text/plain": [
       "datetime.datetime(2018, 12, 1, 0, 0)"
      ]
     },
     "execution_count": 60,
     "metadata": {},
     "output_type": "execute_result"
    }
   ],
   "source": [
    "now_months_first_day "
   ]
  },
  {
   "cell_type": "code",
   "execution_count": 96,
   "metadata": {},
   "outputs": [
    {
     "data": {
      "text/plain": [
       "True"
      ]
     },
     "execution_count": 96,
     "metadata": {},
     "output_type": "execute_result"
    }
   ],
   "source": [
    "now_months_first_day  < datetime.datetime.now()\n"
   ]
  },
  {
   "cell_type": "code",
   "execution_count": 69,
   "metadata": {},
   "outputs": [
    {
     "name": "stdout",
     "output_type": "stream",
     "text": [
      "2018-12-24 20:15:48.483396\n"
     ]
    }
   ],
   "source": [
    "now_date = datetime.datetime.now()\n",
    "print(now_date)  \n"
   ]
  },
  {
   "cell_type": "code",
   "execution_count": 110,
   "metadata": {},
   "outputs": [
    {
     "name": "stdout",
     "output_type": "stream",
     "text": [
      "2018-12-24 20:19:31.943872\n"
     ]
    }
   ],
   "source": [
    "now_date2= datetime.datetime.now()\n",
    "print(now_date2)"
   ]
  },
  {
   "cell_type": "code",
   "execution_count": 111,
   "metadata": {},
   "outputs": [
    {
     "data": {
      "text/plain": [
       "datetime.timedelta(0)"
      ]
     },
     "execution_count": 111,
     "metadata": {},
     "output_type": "execute_result"
    }
   ],
   "source": [
    "now_date2 - now_date2"
   ]
  },
  {
   "cell_type": "code",
   "execution_count": 112,
   "metadata": {},
   "outputs": [
    {
     "name": "stdout",
     "output_type": "stream",
     "text": [
      "0:00:00\n"
     ]
    }
   ],
   "source": [
    "print(now_date2 - now_date2)"
   ]
  },
  {
   "cell_type": "code",
   "execution_count": null,
   "metadata": {},
   "outputs": [],
   "source": [
    "2018-12-24 11:34:38.949648"
   ]
  },
  {
   "cell_type": "code",
   "execution_count": null,
   "metadata": {},
   "outputs": [],
   "source": []
  },
  {
   "cell_type": "code",
   "execution_count": 129,
   "metadata": {},
   "outputs": [
    {
     "name": "stdout",
     "output_type": "stream",
     "text": [
      "2018-12-24 20:11:48.483396\n"
     ]
    }
   ],
   "source": [
    "plus_date = now_date - datetime.timedelta(minutes=4)\n",
    "print(plus_date)"
   ]
  },
  {
   "cell_type": "code",
   "execution_count": 131,
   "metadata": {},
   "outputs": [
    {
     "name": "stdout",
     "output_type": "stream",
     "text": [
      "2018-12-24 20:32:00.380808\n"
     ]
    }
   ],
   "source": [
    "print(datetime.datetime.now() - datetime.timedelta(minutes=5))"
   ]
  },
  {
   "cell_type": "code",
   "execution_count": 108,
   "metadata": {},
   "outputs": [
    {
     "data": {
      "text/plain": [
       "False"
      ]
     },
     "execution_count": 108,
     "metadata": {},
     "output_type": "execute_result"
    }
   ],
   "source": [
    "plus_date < now_date2"
   ]
  },
  {
   "cell_type": "code",
   "execution_count": 125,
   "metadata": {},
   "outputs": [],
   "source": [
    "    no_extra_info_movie_dict = {\n",
    "        \"동대문구\":{\n",
    "            \"num\":0,\n",
    "            \"list\":[]\n",
    "        },\n",
    "        \"성동구\":{\n",
    "            \"num\":0,\n",
    "            \"list\":[]\n",
    "        },\n",
    "        \"광진구\": {\n",
    "            \"num\": 0,\n",
    "            \"list\": []\n",
    "        },\n",
    "    }"
   ]
  },
  {
   "cell_type": "code",
   "execution_count": 140,
   "metadata": {},
   "outputs": [
    {
     "name": "stdout",
     "output_type": "stream",
     "text": [
      "1\n"
     ]
    }
   ],
   "source": [
    "print(no_extra_info_movie_dict[\"동대문구\"][\"num\"])"
   ]
  },
  {
   "cell_type": "code",
   "execution_count": 141,
   "metadata": {},
   "outputs": [],
   "source": [
    "no_extra_info_movie_dict[\"동대문구\"][\"list\"].append('title')"
   ]
  },
  {
   "cell_type": "code",
   "execution_count": 127,
   "metadata": {},
   "outputs": [],
   "source": [
    "no_extra_info_movie_dict[\"동대문구\"][\"num\"] +=1"
   ]
  },
  {
   "cell_type": "code",
   "execution_count": 128,
   "metadata": {},
   "outputs": [
    {
     "name": "stdout",
     "output_type": "stream",
     "text": [
      "1\n"
     ]
    }
   ],
   "source": [
    "print(no_extra_info_movie_dict[\"동대문구\"][\"num\"])"
   ]
  },
  {
   "cell_type": "code",
   "execution_count": 142,
   "metadata": {},
   "outputs": [
    {
     "data": {
      "text/plain": [
       "['title']"
      ]
     },
     "execution_count": 142,
     "metadata": {},
     "output_type": "execute_result"
    }
   ],
   "source": [
    "no_extra_info_movie_dict[\"동대문구\"][\"list\"]"
   ]
  },
  {
   "cell_type": "code",
   "execution_count": null,
   "metadata": {},
   "outputs": [],
   "source": []
  },
  {
   "cell_type": "code",
   "execution_count": null,
   "metadata": {},
   "outputs": [],
   "source": []
  },
  {
   "cell_type": "code",
   "execution_count": 139,
   "metadata": {},
   "outputs": [
    {
     "ename": "ImproperlyConfigured",
     "evalue": "Requested setting TIME_ZONE, but settings are not configured. You must either define the environment variable DJANGO_SETTINGS_MODULE or call settings.configure() before accessing settings.",
     "output_type": "error",
     "traceback": [
      "\u001b[0;31m---------------------------------------------------------------------------\u001b[0m",
      "\u001b[0;31mImproperlyConfigured\u001b[0m                      Traceback (most recent call last)",
      "\u001b[0;32m<ipython-input-139-fac58d196228>\u001b[0m in \u001b[0;36m<module>\u001b[0;34m\u001b[0m\n\u001b[1;32m      5\u001b[0m \u001b[0;34m\u001b[0m\u001b[0m\n\u001b[1;32m      6\u001b[0m \u001b[0mrepay_datetime\u001b[0m \u001b[0;34m=\u001b[0m \u001b[0mdatetime\u001b[0m\u001b[0;34m.\u001b[0m\u001b[0mstrptime\u001b[0m\u001b[0;34m(\u001b[0m\u001b[0;34m'2016-10-01 14:00:00'\u001b[0m\u001b[0;34m,\u001b[0m \u001b[0;34m'%Y-%m-%d %H:%M:%S'\u001b[0m\u001b[0;34m)\u001b[0m\u001b[0;34m\u001b[0m\u001b[0m\n\u001b[0;32m----> 7\u001b[0;31m \u001b[0mrepay_datetime_aware\u001b[0m \u001b[0;34m=\u001b[0m \u001b[0mtimezone\u001b[0m\u001b[0;34m.\u001b[0m\u001b[0mmake_aware\u001b[0m\u001b[0;34m(\u001b[0m\u001b[0mrepay_datetime\u001b[0m\u001b[0;34m)\u001b[0m\u001b[0;34m\u001b[0m\u001b[0m\n\u001b[0m\u001b[1;32m      8\u001b[0m \u001b[0;32mif\u001b[0m \u001b[0minvestment\u001b[0m\u001b[0;34m.\u001b[0m\u001b[0mcreated_datetime\u001b[0m \u001b[0;34m>\u001b[0m \u001b[0mrepay_datetime_aware\u001b[0m\u001b[0;34m:\u001b[0m\u001b[0;34m\u001b[0m\u001b[0m\n\u001b[1;32m      9\u001b[0m  \u001b[0mdo_something\u001b[0m\u001b[0;34m(\u001b[0m\u001b[0;34m)\u001b[0m\u001b[0;34m\u001b[0m\u001b[0m\n",
      "\u001b[0;32m~/.local/share/virtualenvs/library_movie-hgMtabiI/lib/python3.6/site-packages/django/utils/timezone.py\u001b[0m in \u001b[0;36mmake_aware\u001b[0;34m(value, timezone, is_dst)\u001b[0m\n\u001b[1;32m    259\u001b[0m     \u001b[0;34m\"\"\"Make a naive datetime.datetime in a given time zone aware.\"\"\"\u001b[0m\u001b[0;34m\u001b[0m\u001b[0m\n\u001b[1;32m    260\u001b[0m     \u001b[0;32mif\u001b[0m \u001b[0mtimezone\u001b[0m \u001b[0;32mis\u001b[0m \u001b[0;32mNone\u001b[0m\u001b[0;34m:\u001b[0m\u001b[0;34m\u001b[0m\u001b[0m\n\u001b[0;32m--> 261\u001b[0;31m         \u001b[0mtimezone\u001b[0m \u001b[0;34m=\u001b[0m \u001b[0mget_current_timezone\u001b[0m\u001b[0;34m(\u001b[0m\u001b[0;34m)\u001b[0m\u001b[0;34m\u001b[0m\u001b[0m\n\u001b[0m\u001b[1;32m    262\u001b[0m     \u001b[0;32mif\u001b[0m \u001b[0mhasattr\u001b[0m\u001b[0;34m(\u001b[0m\u001b[0mtimezone\u001b[0m\u001b[0;34m,\u001b[0m \u001b[0;34m'localize'\u001b[0m\u001b[0;34m)\u001b[0m\u001b[0;34m:\u001b[0m\u001b[0;34m\u001b[0m\u001b[0m\n\u001b[1;32m    263\u001b[0m         \u001b[0;31m# This method is available for pytz time zones.\u001b[0m\u001b[0;34m\u001b[0m\u001b[0;34m\u001b[0m\u001b[0m\n",
      "\u001b[0;32m~/.local/share/virtualenvs/library_movie-hgMtabiI/lib/python3.6/site-packages/django/utils/timezone.py\u001b[0m in \u001b[0;36mget_current_timezone\u001b[0;34m()\u001b[0m\n\u001b[1;32m     89\u001b[0m \u001b[0;32mdef\u001b[0m \u001b[0mget_current_timezone\u001b[0m\u001b[0;34m(\u001b[0m\u001b[0;34m)\u001b[0m\u001b[0;34m:\u001b[0m\u001b[0;34m\u001b[0m\u001b[0m\n\u001b[1;32m     90\u001b[0m     \u001b[0;34m\"\"\"Return the currently active time zone as a tzinfo instance.\"\"\"\u001b[0m\u001b[0;34m\u001b[0m\u001b[0m\n\u001b[0;32m---> 91\u001b[0;31m     \u001b[0;32mreturn\u001b[0m \u001b[0mgetattr\u001b[0m\u001b[0;34m(\u001b[0m\u001b[0m_active\u001b[0m\u001b[0;34m,\u001b[0m \u001b[0;34m\"value\"\u001b[0m\u001b[0;34m,\u001b[0m \u001b[0mget_default_timezone\u001b[0m\u001b[0;34m(\u001b[0m\u001b[0;34m)\u001b[0m\u001b[0;34m)\u001b[0m\u001b[0;34m\u001b[0m\u001b[0m\n\u001b[0m\u001b[1;32m     92\u001b[0m \u001b[0;34m\u001b[0m\u001b[0m\n\u001b[1;32m     93\u001b[0m \u001b[0;34m\u001b[0m\u001b[0m\n",
      "\u001b[0;32m~/.local/share/virtualenvs/library_movie-hgMtabiI/lib/python3.6/site-packages/django/utils/timezone.py\u001b[0m in \u001b[0;36mget_default_timezone\u001b[0;34m()\u001b[0m\n\u001b[1;32m     75\u001b[0m     \u001b[0mThis\u001b[0m \u001b[0;32mis\u001b[0m \u001b[0mthe\u001b[0m \u001b[0mtime\u001b[0m \u001b[0mzone\u001b[0m \u001b[0mdefined\u001b[0m \u001b[0mby\u001b[0m \u001b[0msettings\u001b[0m\u001b[0;34m.\u001b[0m\u001b[0mTIME_ZONE\u001b[0m\u001b[0;34m.\u001b[0m\u001b[0;34m\u001b[0m\u001b[0m\n\u001b[1;32m     76\u001b[0m     \"\"\"\n\u001b[0;32m---> 77\u001b[0;31m     \u001b[0;32mreturn\u001b[0m \u001b[0mpytz\u001b[0m\u001b[0;34m.\u001b[0m\u001b[0mtimezone\u001b[0m\u001b[0;34m(\u001b[0m\u001b[0msettings\u001b[0m\u001b[0;34m.\u001b[0m\u001b[0mTIME_ZONE\u001b[0m\u001b[0;34m)\u001b[0m\u001b[0;34m\u001b[0m\u001b[0m\n\u001b[0m\u001b[1;32m     78\u001b[0m \u001b[0;34m\u001b[0m\u001b[0m\n\u001b[1;32m     79\u001b[0m \u001b[0;34m\u001b[0m\u001b[0m\n",
      "\u001b[0;32m~/.local/share/virtualenvs/library_movie-hgMtabiI/lib/python3.6/site-packages/django/conf/__init__.py\u001b[0m in \u001b[0;36m__getattr__\u001b[0;34m(self, name)\u001b[0m\n\u001b[1;32m     55\u001b[0m         \u001b[0;34m\"\"\"Return the value of a setting and cache it in self.__dict__.\"\"\"\u001b[0m\u001b[0;34m\u001b[0m\u001b[0m\n\u001b[1;32m     56\u001b[0m         \u001b[0;32mif\u001b[0m \u001b[0mself\u001b[0m\u001b[0;34m.\u001b[0m\u001b[0m_wrapped\u001b[0m \u001b[0;32mis\u001b[0m \u001b[0mempty\u001b[0m\u001b[0;34m:\u001b[0m\u001b[0;34m\u001b[0m\u001b[0m\n\u001b[0;32m---> 57\u001b[0;31m             \u001b[0mself\u001b[0m\u001b[0;34m.\u001b[0m\u001b[0m_setup\u001b[0m\u001b[0;34m(\u001b[0m\u001b[0mname\u001b[0m\u001b[0;34m)\u001b[0m\u001b[0;34m\u001b[0m\u001b[0m\n\u001b[0m\u001b[1;32m     58\u001b[0m         \u001b[0mval\u001b[0m \u001b[0;34m=\u001b[0m \u001b[0mgetattr\u001b[0m\u001b[0;34m(\u001b[0m\u001b[0mself\u001b[0m\u001b[0;34m.\u001b[0m\u001b[0m_wrapped\u001b[0m\u001b[0;34m,\u001b[0m \u001b[0mname\u001b[0m\u001b[0;34m)\u001b[0m\u001b[0;34m\u001b[0m\u001b[0m\n\u001b[1;32m     59\u001b[0m         \u001b[0mself\u001b[0m\u001b[0;34m.\u001b[0m\u001b[0m__dict__\u001b[0m\u001b[0;34m[\u001b[0m\u001b[0mname\u001b[0m\u001b[0;34m]\u001b[0m \u001b[0;34m=\u001b[0m \u001b[0mval\u001b[0m\u001b[0;34m\u001b[0m\u001b[0m\n",
      "\u001b[0;32m~/.local/share/virtualenvs/library_movie-hgMtabiI/lib/python3.6/site-packages/django/conf/__init__.py\u001b[0m in \u001b[0;36m_setup\u001b[0;34m(self, name)\u001b[0m\n\u001b[1;32m     40\u001b[0m                 \u001b[0;34m\"You must either define the environment variable %s \"\u001b[0m\u001b[0;34m\u001b[0m\u001b[0m\n\u001b[1;32m     41\u001b[0m                 \u001b[0;34m\"or call settings.configure() before accessing settings.\"\u001b[0m\u001b[0;34m\u001b[0m\u001b[0m\n\u001b[0;32m---> 42\u001b[0;31m                 % (desc, ENVIRONMENT_VARIABLE))\n\u001b[0m\u001b[1;32m     43\u001b[0m \u001b[0;34m\u001b[0m\u001b[0m\n\u001b[1;32m     44\u001b[0m         \u001b[0mself\u001b[0m\u001b[0;34m.\u001b[0m\u001b[0m_wrapped\u001b[0m \u001b[0;34m=\u001b[0m \u001b[0mSettings\u001b[0m\u001b[0;34m(\u001b[0m\u001b[0msettings_module\u001b[0m\u001b[0;34m)\u001b[0m\u001b[0;34m\u001b[0m\u001b[0m\n",
      "\u001b[0;31mImproperlyConfigured\u001b[0m: Requested setting TIME_ZONE, but settings are not configured. You must either define the environment variable DJANGO_SETTINGS_MODULE or call settings.configure() before accessing settings."
     ]
    }
   ],
   "source": [
    "# timezone utc - > datetime 변환  \n",
    "\n",
    "from datetime import datetime\n",
    "from django.utils import timezone\n",
    "\n",
    "repay_datetime = datetime.strptime('2016-10-01 14:00:00', '%Y-%m-%d %H:%M:%S')\n",
    "repay_datetime_aware = timezone.make_aware(repay_datetime)\n",
    "if investment.created_datetime > repay_datetime_aware:\n",
    " do_something()"
   ]
  },
  {
   "cell_type": "code",
   "execution_count": 143,
   "metadata": {},
   "outputs": [],
   "source": [
    "dict_log = {\n",
    "    \"updated_movie\": {\n",
    "        \"동대문구\": {\"num\": 0,\"list\": []},\n",
    "        \"성동구\": {\"num\": 0,\"list\": []},\n",
    "        \"광진구\": {\"num\": 0,\"list\": []},\n",
    "    },\n",
    "    \"no_extra_info_movie\" : {\n",
    "        \"동대문구\":{\"num\":0,\"list\":[]},\n",
    "        \"성동구\":{\"num\":0,\"list\":[]},\n",
    "        \"광진구\": {\"num\": 0,\"list\": []},\n",
    "    },\n",
    "    \"deleted_movie\": {\n",
    "        \"동대문구\":{\"num\":0,\"list\":[]},\n",
    "        \"성동구\":{\"num\":0,\"list\":[]},\n",
    "        \"광진구\": {\"num\": 0,\"list\": []},\n",
    "    },\n",
    "    \"total_movie\": {\n",
    "        \"동대문구\": {\"before\": 0, \"now\": 0, \"after\": 0},\n",
    "        \"성동구\": {\"before\": 0, \"now\": 0, \"after\": 0},\n",
    "        \"광진구\": {\"before\": 0, \"now\": 0, \"after\": 0},\n",
    "    },\n",
    "}\n"
   ]
  },
  {
   "cell_type": "code",
   "execution_count": 144,
   "metadata": {},
   "outputs": [],
   "source": [
    " dict_log[\"total_movie\"][\"동대문구\"][\"now\"] += 1"
   ]
  },
  {
   "cell_type": "code",
   "execution_count": 146,
   "metadata": {},
   "outputs": [],
   "source": [
    " dict_log[\"total_movie\"][\"광진구\"][\"now\"] += 1"
   ]
  },
  {
   "cell_type": "code",
   "execution_count": 147,
   "metadata": {},
   "outputs": [
    {
     "data": {
      "text/plain": [
       "{'updated_movie': {'동대문구': {'num': 0, 'list': []},\n",
       "  '성동구': {'num': 0, 'list': []},\n",
       "  '광진구': {'num': 0, 'list': []}},\n",
       " 'no_extra_info_movie': {'동대문구': {'num': 0, 'list': []},\n",
       "  '성동구': {'num': 0, 'list': []},\n",
       "  '광진구': {'num': 0, 'list': []}},\n",
       " 'deleted_movie': {'동대문구': {'num': 0, 'list': []},\n",
       "  '성동구': {'num': 0, 'list': []},\n",
       "  '광진구': {'num': 0, 'list': []}},\n",
       " 'total_movie': {'동대문구': {'before': 0, 'now': 1, 'after': 0},\n",
       "  '성동구': {'before': 0, 'now': 1, 'after': 0},\n",
       "  '광진구': {'before': 0, 'now': 1, 'after': 0}}}"
      ]
     },
     "execution_count": 147,
     "metadata": {},
     "output_type": "execute_result"
    }
   ],
   "source": [
    "dict_log"
   ]
  },
  {
   "cell_type": "code",
   "execution_count": 148,
   "metadata": {},
   "outputs": [],
   "source": [
    "def main_movie_crawler():\n",
    "    dict_log[\"total_movie\"][\"동대문구\"][\"now\"] += 1"
   ]
  },
  {
   "cell_type": "code",
   "execution_count": 149,
   "metadata": {},
   "outputs": [],
   "source": [
    "main_movie_crawler()"
   ]
  },
  {
   "cell_type": "code",
   "execution_count": null,
   "metadata": {},
   "outputs": [],
   "source": []
  }
 ],
 "metadata": {
  "kernelspec": {
   "display_name": "Python 3",
   "language": "python",
   "name": "python3"
  },
  "language_info": {
   "codemirror_mode": {
    "name": "ipython",
    "version": 3
   },
   "file_extension": ".py",
   "mimetype": "text/x-python",
   "name": "python",
   "nbconvert_exporter": "python",
   "pygments_lexer": "ipython3",
   "version": "3.6.5"
  }
 },
 "nbformat": 4,
 "nbformat_minor": 2
}
