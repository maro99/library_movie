{
 "cells": [
  {
   "cell_type": "code",
   "execution_count": 51,
   "metadata": {},
   "outputs": [
    {
     "name": "stdout",
     "output_type": "stream",
     "text": [
      "/movie/bi/mi/basic.nhn?code=39841\n"
     ]
    }
   ],
   "source": [
    "# @ 크롤링시 이상한 이미지, 정보들 들어가는 문제~ \n",
    "# 나온거 페이지 안에서 다 비교후 가장 참여 많은것 을 크롤링 하자.   \n",
    "\n",
    "\n",
    "title = '괴물'\n",
    "\n",
    "from urllib import parse\n",
    "import re\n",
    "import requests\n",
    "from bs4 import BeautifulSoup\n",
    "import ssl\n",
    "import urllib.request as req\n",
    "\n",
    "def get_soup(url):\n",
    "    ssl._create_default_https_context = ssl._create_unverified_context\n",
    "    res = req.urlopen(url)\n",
    "    soup = BeautifulSoup(res, 'lxml')\n",
    "    return soup\n",
    "\n",
    "# 한글을 query 로 변환\n",
    "title_encoded = parse.quote(title)\n",
    "\n",
    "# 검색 url접속후 detail 페이지로 가기위한 url을 먼저 얻겠다.\n",
    "url = \"https://movie.naver.com/movie/search/result.nhn?query=\" + title_encoded + \"&section=all&ie=utf8\"\n",
    "soup = get_soup(url)\n",
    "\n",
    "# 만약 아무것도 검색 결과 없다면 None 입력되고 아래 if문 못들어감.\n",
    "# detail_url_pre = soup.select_one('ul.search_list_1 > li > dl > dt > a')\n",
    "detail_url_pre = soup.select('ul.search_list_1 > li > dl > dd.point > em.cuser_cnt')\n",
    "\n",
    "if detail_url_pre: # 비면(검색결과 x) 아예 아래로 안가겠슴. \n",
    "    \n",
    "    max_num = 0\n",
    "    max_num_rated_movies_line1 = detail_url_pre[0]  # 일단 맨앞 line저장 \n",
    "    for line1 in detail_url_pre:\n",
    "#         print(line1) # 여기기준  이웃 , 부모 테그 타고가서 링크 얻자.\n",
    "        text_pre = line1.get_text()\n",
    "        number_of_rated_people = re.findall(\"(\\d+)\",text_pre)[0]\n",
    "#         print(number_of_rated_people)\n",
    "        if max_num <= int(number_of_rated_people):\n",
    "            max_num = int(number_of_rated_people)\n",
    "            max_num_rated_movies_line1 = line1\n",
    "            \n",
    "parent_tag = max_num_rated_movies_line1.parent\n",
    "dt_tag_as_previous_tag = parent_tag.find_previous_sibling(\"dt\")\n",
    "a_tag = dt_tag_as_previous_tag.select_one('a')\n",
    "print(a_tag.get(\"href\"))\n",
    "\n"
   ]
  },
  {
   "cell_type": "code",
   "execution_count": null,
   "metadata": {},
   "outputs": [],
   "source": []
  }
 ],
 "metadata": {
  "kernelspec": {
   "display_name": "Python 3",
   "language": "python",
   "name": "python3"
  },
  "language_info": {
   "codemirror_mode": {
    "name": "ipython",
    "version": 3
   },
   "file_extension": ".py",
   "mimetype": "text/x-python",
   "name": "python",
   "nbconvert_exporter": "python",
   "pygments_lexer": "ipython3",
   "version": "3.6.5"
  }
 },
 "nbformat": 4,
 "nbformat_minor": 2
}
